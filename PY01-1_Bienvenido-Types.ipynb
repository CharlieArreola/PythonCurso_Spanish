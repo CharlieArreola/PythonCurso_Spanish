{
 "cells": [
  {
   "cell_type": "markdown",
   "metadata": {},
   "source": [
    "<h1>Python - Escribe tu primer codigo!</h1>\n",
    "<br>\n",
    "<p><strong>Bienvenido!</strong> EEste notebook te acompañara y a forma de curso enseñara los fundamentos básicos dentro del lenguaje de programación llamado Python.\n",
    "Si estas leyendo ya esto, felicidades haz logrado instalar correctamente jupyter y ahora iremos paso a paso en este cuaderno.\n",
    "\n",
    " </p> "
   ]
  },
  {
   "cell_type": "markdown",
   "metadata": {},
   "source": [
    "## Tabla de Contenidos:"
   ]
  },
  {
   "cell_type": "markdown",
   "metadata": {},
   "source": [
    "<h3 id=\"Hola\">Di \"Hola Mundo!\"</h3><br>\n",
    "El ya tradicional “Hola mundo!” como tu primer línea de código cuando iniciamos en algún nuevo lenguaje. Y en esta ocasión nos servirá no solo para revisar como imprimir un texto en un output, sino también veremos como se ejecutan cada celda.\n",
    "Como veras a continuación esto es una celda con una función de ‘print()’ que te servirá para dar un output de un texto cuando corras la celda\n"
   ]
  },
  {
   "cell_type": "markdown",
   "metadata": {},
   "source": [
    "<hr/>\n",
    "<div class=\"alert alert-success alertsuccess\" style=\"margin-top: 20px\">\n",
    "<kbd>Conejo:</kbd>  para ejecutar líneas de código como la celda de código de abajo, click en la celda y después presiona <kbd>Shift</kbd> + <kbd>Enter</kbd>.\n",
    "</div>\n",
    "<hr/>"
   ]
  },
  {
   "cell_type": "code",
   "execution_count": null,
   "metadata": {},
   "outputs": [],
   "source": [
    "# Tu primer output en Python\n",
    "print('Hola Mundo!')"
   ]
  },
  {
   "cell_type": "markdown",
   "metadata": {},
   "source": [
    "Una vez ejecutas la celda deberías de ver como Python imprime un Hola Mundo!.  <code>Hola Mundo!</code>. Felicidades ya corriste tu primer línea de código en Python"
   ]
  },
  {
   "cell_type": "markdown",
   "metadata": {},
   "source": [
    "<hr/>\n",
    "<div class=\"alert alert-success alertsuccess\" style=\"margin-top: 20px\">\n",
    "    <kbd>Conejo:</kbd> <code>print()</code> es una función de Python. A la cual le agregamos el string <code>'Hola Mundo!'</code> o sea texto, como un argumento para indicarle a Python ‘Qué’ imprimir.\n",
    "</div>\n",
    "<hr/>"
   ]
  },
  {
   "cell_type": "markdown",
   "metadata": {},
   "source": [
    "<h3 id=\"version\">Version de Python instalada</h3><br>\n"
   ]
  },
  {
   "cell_type": "code",
   "execution_count": null,
   "metadata": {},
   "outputs": [],
   "source": [
    "# Revisemos la version\n",
    "import sys\n",
    "print(sys.version)"
   ]
  },
  {
   "cell_type": "markdown",
   "metadata": {},
   "source": [
    "<hr/>\n",
    "<div class=\"alert alert-success alertsuccess\" style=\"margin-top: 20px\">\n",
    "<kbd>Conejo:</kbd> <code>sys</code> Es un modulo que contiene funciones y parámetros del sistema, incluida la versión de Python actual. Antes de llamarlo hay que importar su librería, esto es una practica común como te iras dando cuenta: <code>import</code> \n",
    "</div>\n",
    "<hr/>"
   ]
  },
  {
   "cell_type": "markdown",
   "metadata": {},
   "source": [
    "<h3 id=\"comentarios\">Como escribir comentarios en Python</h3>"
   ]
  },
  {
   "cell_type": "markdown",
   "metadata": {},
   "source": [
    "<p>\n",
    "Además de escribir el código siempre es buena practica ir comentando tu código. Te ayudara a ti y otros que pueda leer tu código a entender el porque del mismo código.\n",
    "No solamente ayuda a <strong> otros</strong> a entender tu código, sino a <strong> ti </strong> cuando vuelvas a el después mucho tiempo de haberlo escrito por primera vez.\n",
    "</p>\n",
    "<p>\n",
    "Hay varias formas de poner comentarios dentro de tu codigo.\n",
    "</p>"
   ]
  },
  {
   "cell_type": "code",
   "execution_count": null,
   "metadata": {},
   "outputs": [],
   "source": [
    "# Esto es un comentaroi\n",
    "\n",
    "print('Hola, Python! 1') # Esto es un comentaroi\n",
    "# print('Que onda!')\n",
    "\n",
    "\n",
    "'''\n",
    "Todo lo que comentes entre estos 3 pares de comillas simples será un comentario\n",
    "\n",
    "       .-.      _______  \n",
    "      {}``; |==|_______D \n",
    "      / ('        /|\\ \n",
    "  (  /  |        / | \\  \n",
    "akg\\(_)_]]      /  |  \\ \n",
    "\n",
    "'''\n",
    "\n",
    "print('Hola, Python! 2') # Esto es un comentaroi"
   ]
  },
  {
   "cell_type": "markdown",
   "metadata": {},
   "source": [
    "<h3 id=\"error\">Del Error se aprende/h3>"
   ]
  },
  {
   "cell_type": "markdown",
   "metadata": {},
   "source": [
    "<p>Python te dirá que has cometido, un arroja un mensaje de error. Para que puedas corregir cualquier detalle en tu código, debes leer atentamente el mensaje, seguro te dará una buena pista de donde anda tu nueva meta a resolver. </p>\n",
    "<p>Por ejemplo, si escribe <code>frint</code> en lugar de <code>print</code>, Python mostrará un mensaje de error. Inténtalo por ti mismo:</p>\n"
   ]
  },
  {
   "cell_type": "code",
   "execution_count": null,
   "metadata": {},
   "outputs": [],
   "source": [
    "# Print con errorcito para ver el mensaje de error\n",
    "# (ㆆ_ㆆ)  NO loo corrijas... queremos ver el error...\n",
    "frint(\"Hello, Python!\")    "
   ]
  },
  {
   "cell_type": "markdown",
   "metadata": {},
   "source": [
    "<p>\n",
    "Python es conocido como un <em>lenguaje interpretado</em>. Los lenguajes compilados examinarán tu código entero a la vez y podrán advertirte de errores previo a la ejecución. Por el otro lado, Python interpreta tu script línea por línea, mientras lo ejecuta. \n",
    "Python parará la ejecución del programa entero si encuentra algún error (a excepción claro de que el programador haya esperado el error y pues lo haya manejado).<br>\n",
    "Corre el código de abajo para ver como va:\n",
    "</p>\n"
   ]
  },
  {
   "cell_type": "code",
   "execution_count": null,
   "metadata": {},
   "outputs": [],
   "source": [
    "# Print string and error to see the running order\n",
    "\n",
    "print(\"Esto va ser impreso\")\n",
    "frint(\"Aqui dara un error\")\n",
    "print(\"Por lo que este ya NO será impreso...\")"
   ]
  },
  {
   "cell_type": "markdown",
   "metadata": {},
   "source": [
    "<h3 id=\"exercise\">Practica: Primer codigo:</h3><br>\n",
    "<p>Miles de programadores ya hicieron su primer \"Hola, mundo!\". Es tu turno.</p>\n",
    "<p>Abajo, usa <code>print()</code> para imprimir la frase 'Hola Mundo' con tu nombre: <code>Hola, mundo! Soy __</code></p>"
   ]
  },
  {
   "cell_type": "code",
   "execution_count": null,
   "metadata": {},
   "outputs": [],
   "source": [
    "# Escribe tu codigo y despues recuerda usar Shift+Enter para ejecutar tu celda\n",
    "\n"
   ]
  },
  {
   "cell_type": "markdown",
   "metadata": {},
   "source": [
    "<hr>\n",
    "<h2 id=\"types_obj\" align=\"center\">Tipos de objetos en Python</h2>\n",
    "<p>Python es un lenguaje orientado a objetos, por ende hay muchos tipos de objetos en Python. Los más comunes son: <i>strings</i>, <i>integers</i> and <i>floats</i>. Cada que escribimos algo (texto) en Python, estamos usando <i>strings</i>. Los números “comunes”, por otro lado, los  <i>integers</i> (-1, 0, 100) y los <i>floats</i>, números reales ( 3.14, -42.0).</p>\n"
   ]
  },
  {
   "cell_type": "markdown",
   "metadata": {},
   "source": [
    "<a align=\"center\">\n",
    "    <img src=\"Images/Types_objects.png\" width=\"600\">\n",
    "</a>"
   ]
  },
  {
   "cell_type": "markdown",
   "metadata": {},
   "source": [
    "El codigo siguiente contiene algunos ejemplos:"
   ]
  },
  {
   "cell_type": "code",
   "execution_count": null,
   "metadata": {},
   "outputs": [],
   "source": [
    "# Integer\n",
    "\n",
    "11"
   ]
  },
  {
   "cell_type": "code",
   "execution_count": null,
   "metadata": {},
   "outputs": [],
   "source": [
    "# Float\n",
    "\n",
    "2.14"
   ]
  },
  {
   "cell_type": "code",
   "execution_count": null,
   "metadata": {},
   "outputs": [],
   "source": [
    "# String\n",
    "\n",
    "\"Hola, mundo! x998\""
   ]
  },
  {
   "cell_type": "markdown",
   "metadata": {},
   "source": [
    "<p>Puede hacer que Python te diga el tipo de dato en cualquier momento, usando  <code>type()</code>. Notarás que Python se refiere a los números enteros como <code>int</code>, los flotantes como <code>float</code> y las cadenas de caracteres como <code>str</code>.</p>"
   ]
  },
  {
   "cell_type": "code",
   "execution_count": null,
   "metadata": {},
   "outputs": [],
   "source": [
    "# Type de 11.2 \n",
    "\n",
    "type(11.2)"
   ]
  },
  {
   "cell_type": "code",
   "execution_count": null,
   "metadata": {},
   "outputs": [],
   "source": [
    "# Type de 11 \n",
    "\n",
    "type(11)"
   ]
  },
  {
   "cell_type": "code",
   "execution_count": null,
   "metadata": {},
   "outputs": [],
   "source": [
    "# Type de un texto \n",
    "\n",
    "type('Hola, mundo! x999')"
   ]
  },
  {
   "cell_type": "markdown",
   "metadata": {},
   "source": [
    "<p>Prueba a sacar el <code>type()</code> para ver este tipo de dato -> <code>12.0</code>.\n"
   ]
  },
  {
   "cell_type": "code",
   "execution_count": null,
   "metadata": {},
   "outputs": [],
   "source": [
    "# Escribe tu codigo y despues recuerda usar Shift+Enter para ejecutar tu celda\n",
    "\n"
   ]
  },
  {
   "cell_type": "markdown",
   "metadata": {},
   "source": [
    "<h3 id=\"int\">Integers</h3>\n",
    "<p>Ejemplos de Int's. Integers pueden ser cualquier número entero:</p>\n",
    "\n",
    "<a align=\"center\">\n",
    "    <img src=\"Images/num_enteros.png\" width=\"600\">\n",
    "</a>\n",
    "<p>Verifiquemos algunos ejemplos más con <code>type()</code>:"
   ]
  },
  {
   "cell_type": "code",
   "execution_count": null,
   "metadata": {},
   "outputs": [],
   "source": [
    "# Imprime el type\n",
    "\n",
    "type(-1)"
   ]
  },
  {
   "cell_type": "code",
   "execution_count": null,
   "metadata": {},
   "outputs": [],
   "source": [
    "# Imprime el type\n",
    "\n",
    "type(4)"
   ]
  },
  {
   "cell_type": "code",
   "execution_count": null,
   "metadata": {},
   "outputs": [],
   "source": [
    "# Imprime el type\n",
    "\n",
    "type(0)"
   ]
  },
  {
   "cell_type": "markdown",
   "metadata": {},
   "source": [
    "<h3 id=\"float\">Floats</h3> \n",
    "<p>Floats representan los números reales, o sea, estos incluyen \"números con decimales\". Hay algunas limitaciones muy especificas que puede llegar a tener, para la mayoria esto no es problema pero en caso de que desees conocer estos valores se usa <code>sys.float_info</code>. Esto igual te dirá tu número maximo y minimo que puedes representar.</p>\n",
    "\n",
    "<p>Ejemplos con <code>type()</code>:"
   ]
  },
  {
   "cell_type": "code",
   "execution_count": null,
   "metadata": {},
   "outputs": [],
   "source": [
    "# Imprime el type\n",
    "\n",
    "type(0.56)"
   ]
  },
  {
   "cell_type": "code",
   "execution_count": null,
   "metadata": {},
   "outputs": [],
   "source": [
    "# Imprime el type\n",
    "\n",
    "type(1.0) # Notice that 1 is an int, and 1.0 is a float"
   ]
  },
  {
   "cell_type": "code",
   "execution_count": null,
   "metadata": {},
   "outputs": [],
   "source": [
    "# System settings \n",
    "\n",
    "sys.float_info"
   ]
  },
  {
   "cell_type": "markdown",
   "metadata": {},
   "source": [
    "<h3 id=\"convert\">Convirtiendo un object de un type a un object de otro type</h3>\n",
    "<p>Se puede ir cambiando el type a los objetos en Python; se le dice typecasting. Por ejemplo, un <i>integer</i> a <i>float</i> (2 -> 2.0).</p>\n",
    "<p>Ejemplos:</p>"
   ]
  },
  {
   "cell_type": "code",
   "execution_count": null,
   "metadata": {},
   "outputs": [],
   "source": [
    "#Haciendo 2 un flotante\n",
    "\n",
    "float(2)"
   ]
  },
  {
   "cell_type": "code",
   "execution_count": null,
   "metadata": {},
   "outputs": [],
   "source": [
    "# Convertir el int 2 a float y luego checamos el typo ultimo\n",
    "\n",
    "type(float(2))"
   ]
  },
  {
   "cell_type": "markdown",
   "metadata": {},
   "source": [
    "<p>Cuando hicimos esta conversión de int a float no cambiamos el valor en si mismo del número. Sin embargo si casteamos un float a int, perderíamos información de ese valor original (adios decimales):</p>"
   ]
  },
  {
   "cell_type": "code",
   "execution_count": null,
   "metadata": {},
   "outputs": [],
   "source": [
    "int(1.1)"
   ]
  },
  {
   "cell_type": "markdown",
   "metadata": {},
   "source": [
    "<h4>Convertir de strings a int o float</h4>\n",
    "<p>Hay ocasiones que tenemos algún numero dentro de una variable de type string que ya sea que represente un <code>int()</code> o un <code>float()</code>:</p>"
   ]
  },
  {
   "cell_type": "code",
   "execution_count": null,
   "metadata": {},
   "outputs": [],
   "source": [
    "# Conversión simple de string a int y float\n",
    "\n",
    "print(int('1'))\n",
    "\n",
    "print(float('1.5'))\n"
   ]
  },
  {
   "cell_type": "markdown",
   "metadata": {},
   "source": [
    "\n",
    "<p>Si intentamos con un string que no sea un match al100% seguro tendremos algun tipo de error. Probemos lo siguiente:</p>"
   ]
  },
  {
   "cell_type": "code",
   "execution_count": null,
   "metadata": {},
   "outputs": [],
   "source": [
    "# Error\n",
    "\n",
    "int('1 or 2 people')"
   ]
  },
  {
   "cell_type": "markdown",
   "metadata": {},
   "source": [
    "<hr/>\n",
    "<div class=\"alert alert-success alertsuccess\" style=\"margin-top: 20px\">\n",
    "    <kbd>Conejo:</kbd> Una nota es que los strings pueden ponerse tanto en comillas simples (<code>'1.2'</code>) como comillas dobles (<code>\"1.2\"</code>), pero no pdrás mezclarlo (e.g., <code>\"1.2'</code>).\n",
    "</div>\n",
    "<hr/>"
   ]
  },
  {
   "cell_type": "markdown",
   "metadata": {},
   "source": [
    "<h4>Convirtinedo de números a strings</h4>\n",
    "<p>Veamos como se hace:</p>"
   ]
  },
  {
   "cell_type": "code",
   "execution_count": null,
   "metadata": {},
   "outputs": [],
   "source": [
    "# Convertir int a string\n",
    "\n",
    "print(str(1))\n",
    "\n",
    "# Convertir float a string\n",
    "\n",
    "print(str(1.2))"
   ]
  },
  {
   "cell_type": "markdown",
   "metadata": {},
   "source": [
    "<h3 id=\"bool\">Boolean - otro tipo de datos</h3>\n",
    "<p><i>Boolean</i> es otro tipo bastante importante en Python. Objetos de type <i>Boolean</i> pueden tomar los valores: <code>True</code> o <code>False</code>:</p>"
   ]
  },
  {
   "cell_type": "code",
   "execution_count": null,
   "metadata": {},
   "outputs": [],
   "source": [
    "# Valor true\n",
    "\n",
    "True"
   ]
  },
  {
   "cell_type": "code",
   "execution_count": null,
   "metadata": {},
   "outputs": [],
   "source": [
    "# Valor false\n",
    "\n",
    "False"
   ]
  },
  {
   "cell_type": "markdown",
   "metadata": {},
   "source": [
    "<p>Notece que tanto True como False se escriben con la primer letra mayúscula</p>\n",
    "<br>\n",
    "<p>Cuando le preguntas a Pythonel type de alguno de los anteriores será <code>bool</code> que significa <i>boolean</i>:</p> "
   ]
  },
  {
   "cell_type": "code",
   "execution_count": null,
   "metadata": {},
   "outputs": [],
   "source": [
    "# Type de True\n",
    "print(type(True))\n",
    "\n",
    "# Type de False\n",
    "print(type(False))"
   ]
  },
  {
   "cell_type": "markdown",
   "metadata": {},
   "source": [
    "<p>Podemos castear objetos boolean a otros data type. Si casteamos un bool con valor <code>True</code> a un int o a float objtendremos un 1. Si casteamos un bool con valor <code>False</code> a un int o a float obtendremos un 0. De la misma forma, si cateamos 1 a Boolean, obtienes un <code>True</code>. Y si casteamos un 0 a Boolean obtendremos <code>False</code>. Intentemoslo:</p> "
   ]
  },
  {
   "cell_type": "code",
   "execution_count": null,
   "metadata": {},
   "outputs": [],
   "source": [
    "# Castear True a int\n",
    "\n",
    "int(True)"
   ]
  },
  {
   "cell_type": "code",
   "execution_count": null,
   "metadata": {},
   "outputs": [],
   "source": [
    "# Castear 1 a boolean\n",
    "\n",
    "bool(1)"
   ]
  },
  {
   "cell_type": "code",
   "execution_count": null,
   "metadata": {},
   "outputs": [],
   "source": [
    "# Castear 0 a boolean\n",
    "\n",
    "bool(0)"
   ]
  },
  {
   "cell_type": "code",
   "execution_count": null,
   "metadata": {},
   "outputs": [],
   "source": [
    "# Castear True a float\n",
    "\n",
    "float(True)"
   ]
  },
  {
   "cell_type": "markdown",
   "metadata": {},
   "source": [
    "<h3 id=\"exer_type\">Ejercicio: Tipos</h3>\n",
    "<p>Cual será el data type de las siguientes operaciones: <code>6 / 2</code>?</p>"
   ]
  },
  {
   "cell_type": "code",
   "execution_count": null,
   "metadata": {},
   "outputs": [],
   "source": [
    "# Escribe tu codigo a continuacion. Presiona Shift+Enter para ejecutar la celda\n"
   ]
  },
  {
   "cell_type": "markdown",
   "metadata": {},
   "source": [
    "Doble-click __here__ para la solución.\n",
    "\n",
    "<!-- Respuesta:\n",
    "type(6/2) # float\n",
    "-->"
   ]
  },
  {
   "cell_type": "markdown",
   "metadata": {},
   "source": [
    "<hr>\n",
    "<h2 id=\"expressions\">Variablesy Expresiones</h2>\n",
    "<h3 id=\"exp\">Expresiones</h3>\n",
    "<p>Las expresiones en Python pueden incluir operaciones si coinciden entre data types (integers y floats). Por ejemplo, operaciones aritmeticas basicas como sumas:</p>\n"
   ]
  },
  {
   "cell_type": "code",
   "execution_count": null,
   "metadata": {},
   "outputs": [],
   "source": [
    "# Expresion de sumas\n",
    "\n",
    "43 + 60 + 16 + 41"
   ]
  },
  {
   "cell_type": "markdown",
   "metadata": {},
   "source": [
    "<p>WPara restar ocupas el guion:</p>"
   ]
  },
  {
   "cell_type": "code",
   "execution_count": null,
   "metadata": {},
   "outputs": [],
   "source": [
    "# Expresion de resta\n",
    "\n",
    "50 - 60"
   ]
  },
  {
   "cell_type": "markdown",
   "metadata": {},
   "source": [
    "<p>Multiplicaciones usando el asterisco:</p>"
   ]
  },
  {
   "cell_type": "code",
   "execution_count": null,
   "metadata": {},
   "outputs": [],
   "source": [
    "# Expresion de multiplicacion\n",
    "\n",
    "5 * 5"
   ]
  },
  {
   "cell_type": "markdown",
   "metadata": {},
   "source": [
    "<p>Divisiones usando el slash:</p>"
   ]
  },
  {
   "cell_type": "code",
   "execution_count": null,
   "metadata": {},
   "outputs": [],
   "source": [
    "# Expresion de division\n",
    "\n",
    "25 / 5"
   ]
  },
  {
   "cell_type": "markdown",
   "metadata": {},
   "source": [
    "<p>Ahora un ejemplo nuevo de diviones en Python, podemos usar doble slash para redondear al entero mas cercano:"
   ]
  },
  {
   "cell_type": "code",
   "execution_count": null,
   "metadata": {},
   "outputs": [],
   "source": [
    "# Division con // doble\n",
    "\n",
    "25 // 5"
   ]
  },
  {
   "cell_type": "code",
   "execution_count": null,
   "metadata": {},
   "outputs": [],
   "source": [
    "# Division con // doble\n",
    "\n",
    "25 // 6"
   ]
  },
  {
   "cell_type": "markdown",
   "metadata": {},
   "source": [
    "<h3 id=\"exer_exp\">Ejercicio: Expresiones</h3>\n",
    "<p>Hagamos algun calculo que nos permita saber cuantas horas hay en 160 minutes:"
   ]
  },
  {
   "cell_type": "code",
   "execution_count": null,
   "metadata": {},
   "outputs": [],
   "source": [
    "# Escribe tu codigo a continuacion. Presiona Shift+Enter para ejecutar la celda\n"
   ]
  },
  {
   "cell_type": "markdown",
   "metadata": {},
   "source": [
    "Doble-click __here__ para la solución.\n",
    "\n",
    "<!-- Respuesta:\n",
    "160/60 \n",
    "# O\n",
    "160//60\n",
    "-->"
   ]
  },
  {
   "cell_type": "markdown",
   "metadata": {},
   "source": [
    "<p>Python puede hacer operaciones matematicas sin ningun tipo de problema. En el siguiente ejemplo, Python guardara el valor 30 en una variable luego lo multiplicara y ese resultado lo guardara en una variable nueva"
   ]
  },
  {
   "cell_type": "code",
   "execution_count": null,
   "metadata": {},
   "outputs": [],
   "source": [
    "# Matematicas\n",
    "\n",
    "x = 15 * 2\n",
    "(x) * 60\n",
    "print(x)"
   ]
  },
  {
   "cell_type": "code",
   "execution_count": null,
   "metadata": {},
   "outputs": [],
   "source": [
    "# y como en matematicas se pueden ocupar parentesis para que ocurran orden las operaciones\n",
    "\n",
    "2*(15 * 2) / 2"
   ]
  },
  {
   "cell_type": "markdown",
   "metadata": {},
   "source": [
    "<h3 id=\"var\">Variables</h3>\n",
    "<p>Como en la mayoria de lenguajes de programacion en Python podemos ir guardando valores en <i>variables</i>, Para poder usarlas despues. Por ejemplo:</p>"
   ]
  },
  {
   "cell_type": "code",
   "execution_count": null,
   "metadata": {},
   "outputs": [],
   "source": [
    "# Guardemos en esta celda la variable var_1\n",
    "var_1 = 50"
   ]
  },
  {
   "cell_type": "code",
   "execution_count": null,
   "metadata": {},
   "outputs": [],
   "source": [
    "# Y en esta segunda celda la ocuparemos con var_2 para una operacion\n",
    "var_2 = 10\n",
    "var_1 + var_2"
   ]
  },
  {
   "cell_type": "markdown",
   "metadata": {},
   "source": [
    "<p> esto se debe a que Python celda tras celda va guardando en memoria las variables que existan dentro de este notebook \n",
    "<p>Si sobreescribimos una variable, tel nuevo valor remplazara el anterior:</p>\n"
   ]
  },
  {
   "cell_type": "code",
   "execution_count": null,
   "metadata": {},
   "outputs": [],
   "source": [
    "var_1 = \"Otra cosa\"\n",
    "print(var_1)"
   ]
  },
  {
   "cell_type": "markdown",
   "metadata": {},
   "source": [
    "<hr/>\n",
    "<div class=\"alert alert-success alertsuccess\" style=\"margin-top: 20px\">\n",
    "    <kbd>Conejo:</kbd> Siempre es aconsejable poner nombres relevantes a las variables.\n",
    "</div>\n",
    "<hr/>"
   ]
  },
  {
   "cell_type": "code",
   "execution_count": null,
   "metadata": {},
   "outputs": [],
   "source": [
    "# Variables con nombres relevantes\n",
    "\n",
    "total_min = 43 + 42 + 57 # Largo total de min en 3 playlists\n",
    "total_min"
   ]
  },
  {
   "cell_type": "code",
   "execution_count": null,
   "metadata": {},
   "outputs": [],
   "source": [
    "# Ahora calculemoslas hrs\n",
    "\n",
    "total_hours = total_min / 60 # Largo total de hrs en total_min\n",
    "total_hours"
   ]
  },
  {
   "cell_type": "markdown",
   "metadata": {},
   "source": [
    "<h3 id=\"exer_exp_var\">Ejercicio: Vasriables & Expresiones Python</h3>\n",
    "<p>Ahora resolverás algunas preguntas:</p>\n",
    "<p>Imprime el valor de <code>X</code> donde <code>X = 150 + 80 * 25</code></p>"
   ]
  },
  {
   "cell_type": "code",
   "execution_count": null,
   "metadata": {},
   "outputs": [],
   "source": [
    "# Escribe tu codigo a continuacion. Presiona Shift+Enter para ejecutar la celda\n",
    "# Usa X mayuscula \n"
   ]
  },
  {
   "cell_type": "markdown",
   "metadata": {},
   "source": [
    "Double-click __here__ for the solution.\n",
    "\n",
    "<!-- X:\n",
    "2150\n",
    "-->\n"
   ]
  },
  {
   "cell_type": "markdown",
   "metadata": {},
   "source": [
    "<p>Imprime el valor de <code>Y</code> donde <code>Y = (150 + (25 * 2)) / 4</code></p>"
   ]
  },
  {
   "cell_type": "code",
   "execution_count": null,
   "metadata": {},
   "outputs": [],
   "source": [
    "# Escribe tu codigo a continuacion. Presiona Shift+Enter para ejecutar la celda\n",
    "# Usa Y mayuscula \n"
   ]
  },
  {
   "cell_type": "markdown",
   "metadata": {},
   "source": [
    "Double-click __here__ for the solution.\n",
    "\n",
    "<!-- Y:\n",
    "50\n",
    "-->\n"
   ]
  },
  {
   "cell_type": "markdown",
   "metadata": {},
   "source": [
    "<p>Ahora imprimiremos <code>Z</code> donde usaremos las variables pasadas <code>Z = X / Y</code></p> pero lo haremos dentro deun <code>print()</code> y un truquito para concatenar números a un string mediante de estas <code>{}</code> para juntar el numero del resultado Z con una frase"
   ]
  },
  {
   "cell_type": "code",
   "execution_count": null,
   "metadata": {},
   "outputs": [],
   "source": [
    "#\n",
    "Z = int(X / Y)\n",
    "\n",
    "print('Nos falta un Licor {} :)'.format(Z))"
   ]
  },
  {
   "cell_type": "markdown",
   "metadata": {},
   "source": [
    "<p>Muy bien, en el siguiente notebook veremos a más detalle todo el tema de los strings, pues en si mismo es toda una clase por aparte hehe</p>"
   ]
  },
  {
   "cell_type": "markdown",
   "metadata": {},
   "source": [
    "<h2>Llegaste al Fin del Capitulo 1.1</h2>\n",
    "<p>\n",
    "Esta ha sido primera lección y tu primer experiencia con un notebook de python.\n",
    "</p>\n",
    "<hr>\n",
    "<p>\n",
    "Del autor:\n",
    "Hola! Soy <a href=\"https://github.com/CharlieArreola\">Carlos Arreola</a> Lic. en Gestión de Negocios y Tecnologías de la Información. Desde el 2018 trabajo en IBM principalmente en Machine Learning, Natural Language [Processing, Classifcation], tecnologías cognitivas en un equipo de Automation. Ademas me considero entusiasta en temas de Artificial Intelligence, web3,videojuegos y crypto.\n",
    "Si puedo apoyarte en algo no dudes en dejarme algun mensaje.\n",
    "\n",
    "|Version|Fecha|Detalle|Autor|\n",
    "|---|---|---|---|\n",
    "|1.0|30/Enero/2022|Creacion del notebook y subida a git| Carlos Arreola\n",
    "</p>"
   ]
  },
  {
   "cell_type": "markdown",
   "metadata": {},
   "source": []
  }
 ],
 "metadata": {
  "interpreter": {
   "hash": "068f29a5db6983e2a2b94cc2ae84a4c07cda7a391da3c6e0ffd8c0fd5119eeaa"
  },
  "kernelspec": {
   "display_name": "Python 3.8.5 64-bit ('base': conda)",
   "language": "python",
   "name": "python3"
  },
  "language_info": {
   "codemirror_mode": {
    "name": "ipython",
    "version": 3
   },
   "file_extension": ".py",
   "mimetype": "text/x-python",
   "name": "python",
   "nbconvert_exporter": "python",
   "pygments_lexer": "ipython3",
   "version": "3.8.5"
  },
  "orig_nbformat": 4
 },
 "nbformat": 4,
 "nbformat_minor": 2
}
